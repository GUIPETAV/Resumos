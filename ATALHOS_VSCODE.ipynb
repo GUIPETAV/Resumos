{
  "nbformat": 4,
  "nbformat_minor": 0,
  "metadata": {
    "colab": {
      "name": "ATALHOS_VSCODE.ipynb",
      "provenance": [],
      "authorship_tag": "ABX9TyPVNXMSHTVGcl9uQ+BjGTu+",
      "include_colab_link": true
    },
    "kernelspec": {
      "name": "python3",
      "display_name": "Python 3"
    },
    "language_info": {
      "name": "python"
    }
  },
  "cells": [
    {
      "cell_type": "markdown",
      "metadata": {
        "id": "view-in-github",
        "colab_type": "text"
      },
      "source": [
        "<a href=\"https://colab.research.google.com/github/GUIPETAV/Resumos/blob/main/ATALHOS_VSCODE.ipynb\" target=\"_parent\"><img src=\"https://colab.research.google.com/assets/colab-badge.svg\" alt=\"Open In Colab\"/></a>"
      ]
    },
    {
      "cell_type": "markdown",
      "source": [
        "\n",
        "RESUMO VSCODE\n",
        "\n",
        "Ctrl+Shift+E - APARECE A BARRA DO LADO ESQUERDO DO VSCODE \n",
        "\n",
        "Cmd+Shift+E no macOS\n"
      ],
      "metadata": {
        "id": "JUTcPWtyLsBh"
      }
    }
  ]
}